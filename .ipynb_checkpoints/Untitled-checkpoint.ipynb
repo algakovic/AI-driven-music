{
 "cells": [
  {
   "cell_type": "code",
   "execution_count": 24,
   "metadata": {},
   "outputs": [
    {
     "ename": "NameError",
     "evalue": "name 'SND_ALIAS' is not defined",
     "output_type": "error",
     "traceback": [
      "\u001b[1;31m---------------------------------------------------------------------------\u001b[0m",
      "\u001b[1;31mNameError\u001b[0m                                 Traceback (most recent call last)",
      "\u001b[1;32m<ipython-input-24-bbf7fa1bffa0>\u001b[0m in \u001b[0;36m<module>\u001b[1;34m\u001b[0m\n\u001b[0;32m     11\u001b[0m \u001b[0msong\u001b[0m\u001b[1;33m(\u001b[0m\u001b[1;36m349.23\u001b[0m\u001b[1;33m,\u001b[0m \u001b[1;36m349.23\u001b[0m\u001b[1;33m)\u001b[0m\u001b[1;33m\u001b[0m\u001b[1;33m\u001b[0m\u001b[0m\n\u001b[0;32m     12\u001b[0m \u001b[1;33m\u001b[0m\u001b[0m\n\u001b[1;32m---> 13\u001b[1;33m \u001b[0mwinsound\u001b[0m\u001b[1;33m.\u001b[0m\u001b[0mPlaySound\u001b[0m\u001b[1;33m(\u001b[0m\u001b[1;34m'./musicscript.py'\u001b[0m\u001b[1;33m,\u001b[0m\u001b[0mSND_ALIAS\u001b[0m\u001b[1;33m)\u001b[0m\u001b[1;33m\u001b[0m\u001b[1;33m\u001b[0m\u001b[0m\n\u001b[0m",
      "\u001b[1;31mNameError\u001b[0m: name 'SND_ALIAS' is not defined"
     ]
    }
   ],
   "source": [
    "import winsound\n",
    "import numpy as np\n",
    "from numpy import random\n",
    "\n",
    "def song(start, end):\n",
    "    winsound.Beep(int(start+.5), 500)\n",
    "    for note in [261.63, 293.66, 329.63, 349.23, 392.00, 440.00, 493.88, 523.25]:\n",
    "            winsound.Beep(np.random.randint(261.63, 523.25), np.random.randint(200, 1000))\n",
    "    winsound.Beep(int(end+.5), 500)\n",
    "\n",
    "song(349.23, 349.23)\n",
    "\n",
    "winsound.PlaySound('./musicscript.py',SND_ALIAS)"
   ]
  },
  {
   "cell_type": "code",
   "execution_count": 25,
   "metadata": {},
   "outputs": [],
   "source": [
    "# PyAudiere next"
   ]
  },
  {
   "cell_type": "code",
   "execution_count": null,
   "metadata": {},
   "outputs": [],
   "source": []
  }
 ],
 "metadata": {
  "kernelspec": {
   "display_name": "Python 3",
   "language": "python",
   "name": "python3"
  },
  "language_info": {
   "codemirror_mode": {
    "name": "ipython",
    "version": 3
   },
   "file_extension": ".py",
   "mimetype": "text/x-python",
   "name": "python",
   "nbconvert_exporter": "python",
   "pygments_lexer": "ipython3",
   "version": "3.8.5"
  }
 },
 "nbformat": 4,
 "nbformat_minor": 4
}
